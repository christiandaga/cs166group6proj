{
 "cells": [
  {
   "cell_type": "code",
   "execution_count": 2,
   "metadata": {},
   "outputs": [],
   "source": [
    "import numpy as np\n",
    "import pandas as pd\n",
    "import tweepy\n",
    "import config\n",
    "\n",
    "#configure token stuff\n",
    "access_token = config.access_token\n",
    "access_token_secret = config.access_token_secret\n",
    "consumer_key = config.consumer_key\n",
    "consumer_secret = config.consumer_secret"
   ]
  },
  {
   "cell_type": "code",
   "execution_count": 3,
   "metadata": {},
   "outputs": [
    {
     "name": "stdout",
     "output_type": "stream",
     "text": [
      "                   id account_type\n",
      "0  787405734442958848          bot\n",
      "1  796216118331310080        human\n",
      "2  875949740503859204        human\n",
      "3  756119643622735875        human\n",
      "4           464781334        human\n"
     ]
    }
   ],
   "source": [
    "#load kaggle dataset into a dataframe\n",
    "FILENAME = \"twitter_human_bots_dataset.csv\"\n",
    "twitter_dataframe = pd.read_csv(FILENAME)\n",
    "#print(twitter_dataframe.head())"
   ]
  },
  {
   "cell_type": "code",
   "execution_count": 11,
   "metadata": {},
   "outputs": [],
   "source": [
    "#configure twitter api client\n",
    "auth = tweepy.OAuthHandler(consumer_key, consumer_secret)\n",
    "auth.set_access_token(access_token, access_token_secret)\n",
    "api = tweepy.API(auth, parser=tweepy.parsers.JSONParser(), wait_on_rate_limit=True)"
   ]
  },
  {
   "cell_type": "code",
   "execution_count": 12,
   "metadata": {},
   "outputs": [
    {
     "name": "stdout",
     "output_type": "stream",
     "text": [
      "787405734442958848\n"
     ]
    }
   ],
   "source": [
    "#obtain fields from accounts using api client\n",
    "i = twitter_dataframe[\"id\"][0]\n",
    "temp = api.get_user(params={\"user_id\":i})"
   ]
  },
  {
   "cell_type": "code",
   "execution_count": 13,
   "metadata": {},
   "outputs": [
    {
     "data": {
      "text/plain": [
       "{'id': 787405734442958848,\n",
       " 'id_str': '787405734442958848',\n",
       " 'name': 'The Best In Dumbest',\n",
       " 'screen_name': 'best_in_dumbest',\n",
       " 'location': '',\n",
       " 'profile_location': None,\n",
       " 'description': 'Blame @xaiax, Inspired by @MakingInvisible, using cmu phonetic data to produce incongruous matches.\\nSome images via Lorem Flickr.',\n",
       " 'url': None,\n",
       " 'entities': {'description': {'urls': []}},\n",
       " 'protected': False,\n",
       " 'followers_count': 1808,\n",
       " 'friends_count': 5,\n",
       " 'listed_count': 55,\n",
       " 'created_at': 'Sat Oct 15 21:32:11 +0000 2016',\n",
       " 'favourites_count': 4,\n",
       " 'utc_offset': None,\n",
       " 'time_zone': None,\n",
       " 'geo_enabled': False,\n",
       " 'verified': False,\n",
       " 'statuses_count': 14231,\n",
       " 'lang': None,\n",
       " 'status': {'created_at': 'Thu Oct 14 15:00:03 +0000 2021',\n",
       "  'id': 1448664907960840198,\n",
       "  'id_str': '1448664907960840198',\n",
       "  'text': 'Let\\'s put the\\n\"Mentor\" in\\n\"Tormentor\" https://t.co/Vde8Rn048a',\n",
       "  'truncated': False,\n",
       "  'entities': {'hashtags': [],\n",
       "   'symbols': [],\n",
       "   'user_mentions': [],\n",
       "   'urls': [],\n",
       "   'media': [{'id': 1448664905159045125,\n",
       "     'id_str': '1448664905159045125',\n",
       "     'indices': [38, 61],\n",
       "     'media_url': 'http://pbs.twimg.com/media/FBqxDk6UcAUAzZY.jpg',\n",
       "     'media_url_https': 'https://pbs.twimg.com/media/FBqxDk6UcAUAzZY.jpg',\n",
       "     'url': 'https://t.co/Vde8Rn048a',\n",
       "     'display_url': 'pic.twitter.com/Vde8Rn048a',\n",
       "     'expanded_url': 'https://twitter.com/best_in_dumbest/status/1448664907960840198/photo/1',\n",
       "     'type': 'photo',\n",
       "     'sizes': {'thumb': {'w': 150, 'h': 150, 'resize': 'crop'},\n",
       "      'large': {'w': 1024, 'h': 768, 'resize': 'fit'},\n",
       "      'small': {'w': 680, 'h': 510, 'resize': 'fit'},\n",
       "      'medium': {'w': 1024, 'h': 768, 'resize': 'fit'}}}]},\n",
       "  'extended_entities': {'media': [{'id': 1448664905159045125,\n",
       "     'id_str': '1448664905159045125',\n",
       "     'indices': [38, 61],\n",
       "     'media_url': 'http://pbs.twimg.com/media/FBqxDk6UcAUAzZY.jpg',\n",
       "     'media_url_https': 'https://pbs.twimg.com/media/FBqxDk6UcAUAzZY.jpg',\n",
       "     'url': 'https://t.co/Vde8Rn048a',\n",
       "     'display_url': 'pic.twitter.com/Vde8Rn048a',\n",
       "     'expanded_url': 'https://twitter.com/best_in_dumbest/status/1448664907960840198/photo/1',\n",
       "     'type': 'photo',\n",
       "     'sizes': {'thumb': {'w': 150, 'h': 150, 'resize': 'crop'},\n",
       "      'large': {'w': 1024, 'h': 768, 'resize': 'fit'},\n",
       "      'small': {'w': 680, 'h': 510, 'resize': 'fit'},\n",
       "      'medium': {'w': 1024, 'h': 768, 'resize': 'fit'}}}]},\n",
       "  'source': '<a href=\"http://moist.horse\" rel=\"nofollow\">Moist Horse</a>',\n",
       "  'in_reply_to_status_id': None,\n",
       "  'in_reply_to_status_id_str': None,\n",
       "  'in_reply_to_user_id': None,\n",
       "  'in_reply_to_user_id_str': None,\n",
       "  'in_reply_to_screen_name': None,\n",
       "  'geo': None,\n",
       "  'coordinates': None,\n",
       "  'place': None,\n",
       "  'contributors': None,\n",
       "  'is_quote_status': False,\n",
       "  'retweet_count': 0,\n",
       "  'favorite_count': 4,\n",
       "  'favorited': False,\n",
       "  'retweeted': False,\n",
       "  'possibly_sensitive': False,\n",
       "  'lang': 'en'},\n",
       " 'contributors_enabled': False,\n",
       " 'is_translator': False,\n",
       " 'is_translation_enabled': False,\n",
       " 'profile_background_color': '000000',\n",
       " 'profile_background_image_url': 'http://abs.twimg.com/images/themes/theme1/bg.png',\n",
       " 'profile_background_image_url_https': 'https://abs.twimg.com/images/themes/theme1/bg.png',\n",
       " 'profile_background_tile': False,\n",
       " 'profile_image_url': 'http://pbs.twimg.com/profile_images/787412182602428416/5WawZkPa_normal.jpg',\n",
       " 'profile_image_url_https': 'https://pbs.twimg.com/profile_images/787412182602428416/5WawZkPa_normal.jpg',\n",
       " 'profile_banner_url': 'https://pbs.twimg.com/profile_banners/787405734442958848/1476567657',\n",
       " 'profile_link_color': '802840',\n",
       " 'profile_sidebar_border_color': '000000',\n",
       " 'profile_sidebar_fill_color': '000000',\n",
       " 'profile_text_color': '000000',\n",
       " 'profile_use_background_image': False,\n",
       " 'has_extended_profile': False,\n",
       " 'default_profile': False,\n",
       " 'default_profile_image': False,\n",
       " 'following': False,\n",
       " 'follow_request_sent': False,\n",
       " 'notifications': False,\n",
       " 'translator_type': 'none',\n",
       " 'withheld_in_countries': []}"
      ]
     },
     "execution_count": 13,
     "metadata": {},
     "output_type": "execute_result"
    }
   ],
   "source": [
    "temp\n",
    "#insert profile data points into corresponding rows"
   ]
  },
  {
   "cell_type": "code",
   "execution_count": 14,
   "metadata": {},
   "outputs": [],
   "source": [
    "#remove any junk rows"
   ]
  },
  {
   "cell_type": "code",
   "execution_count": null,
   "metadata": {},
   "outputs": [],
   "source": [
    "#export csv"
   ]
  },
  {
   "cell_type": "code",
   "execution_count": null,
   "metadata": {},
   "outputs": [],
   "source": []
  }
 ],
 "metadata": {
  "interpreter": {
   "hash": "31f2aee4e71d21fbe5cf8b01ff0e069b9275f58929596ceb00d14d90e3e16cd6"
  },
  "kernelspec": {
   "display_name": "Python 3.8.10 64-bit",
   "name": "python3"
  },
  "language_info": {
   "codemirror_mode": {
    "name": "ipython",
    "version": 3
   },
   "file_extension": ".py",
   "mimetype": "text/x-python",
   "name": "python",
   "nbconvert_exporter": "python",
   "pygments_lexer": "ipython3",
   "version": "3.8.10"
  }
 },
 "nbformat": 4,
 "nbformat_minor": 4
}
